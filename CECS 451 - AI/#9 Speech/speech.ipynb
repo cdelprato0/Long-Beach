{
 "cells": [
  {
   "cell_type": "code",
   "execution_count": null,
   "metadata": {},
   "outputs": [],
   "source": [
    "import speech_recognition as sr\n",
    "import distance\n",
    "import os\n",
    "\n",
    "class Speech:\n",
    "    def __init__(self):\n",
    "        self.original = []\n",
    "        self.recognized = []\n",
    "        self.similarity = []\n",
    "\n",
    "    def read_original(self, inFile):\n",
    "        file = open(inFile,\"r\") #open file in read mode\n",
    "        lines = file.readlines() #get lines of file into a list\n",
    "        for line in lines:\n",
    "            self.original.append(line.rstrip()) #add to original list with no trailing whitespace\n",
    "            \n",
    "    def conv_audio(self, inDir):\n",
    "        r = sr.Recognizer()\n",
    "        filePaths = os.listdir(\"./\" + inDir) # get all the wav files into a list\n",
    "        filePaths.sort() # sort them so we can assume they are in order\n",
    "        for filePath in filePaths:\n",
    "            file = sr.AudioFile(\"./\" + inDir + \"/\" + filePath) # get the file\n",
    "            with file as source:\n",
    "                audio = r.record(source) # convert file type\n",
    "            try:\n",
    "                self.recognized.append(r.recognize_google(audio)) # send to api\n",
    "            except:\n",
    "                self.recognized.append(\"\")\n",
    "                print(filePath + \" audio could not be recognized.\")\n",
    "    \n",
    "    def comp_string(self):\n",
    "        original = []\n",
    "        recognized = []\n",
    "        for phrase in self.original:\n",
    "            original.append(phrase.split())\n",
    "        for phrase in self.recognized:\n",
    "            recognized.append(phrase.split())\n",
    "        for i in range(len(original)):\n",
    "            self.similarity.append(distance.levenshtein(original[i], recognized[i]))\n",
    "\n",
    "if __name__ == '__main__':\n",
    "    em = Speech()\n",
    "    em.read_original(\"original.txt\")\n",
    "    em.conv_audio(\"audioFiles/EnglishMale\")\n",
    "    em.comp_string()\n",
    "    \n",
    "    cm = Speech()\n",
    "    cm.read_original(\"original.txt\")\n",
    "    cm.conv_audio(\"audioFiles/ChineseMale\")\n",
    "    cm.comp_string()\n",
    "    \n",
    "    cf = Speech()\n",
    "    cf.read_original(\"original.txt\")\n",
    "    cf.conv_audio(\"audioFiles/EnglishFemale\")\n",
    "    cf.comp_string()"
   ]
  },
  {
   "cell_type": "code",
   "execution_count": null,
   "metadata": {},
   "outputs": [],
   "source": [
    "import matplotlib.pyplot as plt\n",
    "\n",
    "\n",
    "data_to_plot = [[4, 2, 3, 2, 2, 4, 1, 1, 5, 1, 3, 3, 4, 5, 4, 3, 2, 4, 1, 4, 6, 1, 1, 3, 3],\n",
    "                [14, 13, 7, 3, 11, 14, 12, 12, 32, 12, 15, 31, 15, 22, 21, 13, 21, 17, 13, 9, 25, 20, 11, 5, 16]]\n",
    "\n",
    "fig = plt.figure(1, figsize=(9, 6))\n",
    "\n",
    "ax = fig.add_subplot(111)\n",
    "ax.set_xticklabels(['English-Male', 'Chinese-Male'])\n",
    "\n",
    "bp = ax.boxplot(data_to_plot, patch_artist=True)\n",
    "\n",
    "colors = ['lightblue', 'lightblue']\n",
    "for patch, color in zip(bp['boxes'], colors):\n",
    "        patch.set_facecolor(color)"
   ]
  },
  {
   "cell_type": "code",
   "execution_count": null,
   "metadata": {},
   "outputs": [],
   "source": [
    "data_to_plot = [[4, 2, 3, 2, 2, 4, 1, 1, 5, 1, 3, 3, 4, 5, 4, 3, 2, 4, 1, 4, 6, 1, 1, 3, 3],\n",
    "                [6, 5, 4, 2, 8, 5, 1, 7, 4, 3, 4, 5, 5, 8, 8, 3, 5, 4, 4, 4, 4, 2, 2, 3, 3]]\n",
    "\n",
    "\n",
    "fig = plt.figure(1, figsize=(9, 6))\n",
    "\n",
    "ax = fig.add_subplot(111)\n",
    "ax.set_xticklabels(['English-Male', 'English-Female'])\n",
    "\n",
    "bp = ax.boxplot(data_to_plot, patch_artist=True)\n",
    "[6, 5, 4, 2, 8, 5, 1, 7, 4, 3, 4, 5, 5, 8, 8, 3, 5, 4, 4, 4, 4, 2, 2, 3, 3]\n",
    "'English-Female'\n",
    "\n",
    "colors = ['lightblue', 'lightblue']\n",
    "for patch, color in zip(bp['boxes'], colors):\n",
    "        patch.set_facecolor(color)"
   ]
  },
  {
   "cell_type": "code",
   "execution_count": null,
   "metadata": {
    "collapsed": true
   },
   "outputs": [],
   "source": []
  }
 ],
 "metadata": {
  "kernelspec": {
   "display_name": "Python 3",
   "language": "python",
   "name": "python3"
  },
  "language_info": {
   "codemirror_mode": {
    "name": "ipython",
    "version": 3
   },
   "file_extension": ".py",
   "mimetype": "text/x-python",
   "name": "python",
   "nbconvert_exporter": "python",
   "pygments_lexer": "ipython3",
   "version": "3.6.1"
  }
 },
 "nbformat": 4,
 "nbformat_minor": 2
}
