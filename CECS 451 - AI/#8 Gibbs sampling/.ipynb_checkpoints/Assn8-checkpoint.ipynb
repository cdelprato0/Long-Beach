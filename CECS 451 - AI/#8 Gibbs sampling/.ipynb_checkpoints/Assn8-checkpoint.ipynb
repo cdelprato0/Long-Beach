{
 "cells": [
  {
   "cell_type": "code",
   "execution_count": 25,
   "metadata": {},
   "outputs": [
    {
     "name": "stdout",
     "output_type": "stream",
     "text": [
      "Part A: The sampling probablities\n",
      "P(C|-s,r) = < 0.88 , 0.12 >\n",
      "P(C|-s,-r) = < 0.31 , 0.69 >\n",
      "P(R|c,-s,w) = < 1.00 , 0.00 >\n",
      "P(R|-c,-s,w) = < 1.00 , 0.00 >\n",
      "\n",
      "Part B: The transition probability matrix\n",
      "\tS1\tS2\tS3\tS4\n",
      "S1\t0.94\t0.00\t0.06\t0.00\n",
      "S2\t0.50\t0.16\t0.00\t0.34\n",
      "S3\t0.44\t0.00\t0.56\t0.00\n",
      "S4\t0.00\t0.44\t0.50\t0.06\n"
     ]
    }
   ],
   "source": [
    "format = \" = < %.2f , %.2f >\"\n",
    "# all work done in notes\n",
    "a1 = 0.8784\n",
    "b1 = 0.1216\n",
    "a2 = 0.3105\n",
    "b2 = 0.6895\n",
    "a3 = 1\n",
    "b3 = 0\n",
    "a4 = 1\n",
    "b4 = 0\n",
    "\n",
    "#outputs anwsers from work\n",
    "print(\"Part A: The sampling probablities\")\n",
    "print(\"P(C|-s,r)\" + format % (a1,b1))\n",
    "print(\"P(C|-s,-r)\" + format % (a2,b2))\n",
    "print(\"P(R|c,-s,w)\" + format % (a3,b3))\n",
    "print(\"P(R|-c,-s,w)\" + format % (a4,b4))\n",
    "\n",
    "#creates matrix\n",
    "rows, cols = (5, 5) \n",
    "arr = [[0 for i in range(cols)] for j in range(rows)] \n",
    "\n",
    "#sets up matrix\n",
    "arr[0][0] = a1/2 + a3/2\n",
    "arr[0][1] = 0\n",
    "arr[0][2] = b1/2\n",
    "arr[0][3] = 0\n",
    "arr[1][0] = a3/2\n",
    "arr[1][1] = a2/2\n",
    "arr[1][2] = 0\n",
    "arr[1][3] = b2/2\n",
    "arr[2][0] = a1/2\n",
    "arr[2][1] = 0\n",
    "arr[2][2] = a3/2 + b1/2\n",
    "arr[2][3] = 0\n",
    "arr[3][0] = 0\n",
    "arr[3][1] = a1/2\n",
    "arr[3][2] = a4/2\n",
    "arr[3][3] = b1/2\n",
    "\n",
    "print(\"\\nPart B: The transition probability matrix\")\n",
    "format1 = \"\\t%.2f\\t%.2f\\t%.2f\\t%.2f\"\n",
    "print(\"\\tS1\\tS2\\tS3\\tS4\")\n",
    "print(\"S1\" + format1 % (arr[0][0],arr[0][1],arr[0][2],arr[0][3]))\n",
    "print(\"S2\" + format1 % (arr[1][0],arr[1][1],arr[1][2],arr[1][3]))\n",
    "print(\"S3\" + format1 % (arr[2][0],arr[2][1],arr[2][2],arr[2][3]))\n",
    "print(\"S4\" + format1 % (arr[3][0],arr[3][1],arr[3][2],arr[3][3]))"
   ]
  },
  {
   "cell_type": "code",
   "execution_count": 26,
   "metadata": {},
   "outputs": [
    {
     "name": "stdout",
     "output_type": "stream",
     "text": [
      "\n",
      "Part C: The probabilty for the query\n",
      "P(C|-s,w) = < 0.8789 , 0.1211 >\n"
     ]
    }
   ],
   "source": [
    "import random\n",
    "\n",
    "format2 = \" = < %.4f , %.4f >\"\n",
    "cur = random.randint(0,3) #generates random initial state\n",
    "states = [0,0,0,0] #keeps track of number of occurrences for each state\n",
    "alpha = 10**6\n",
    "\n",
    "#for each i in alpha\n",
    "for i in range(alpha):\n",
    "    #random number between 0-1\n",
    "    choice = random.uniform(0,1)\n",
    "    #if random percentage is less than the matrix value at the current state and the first column\n",
    "    if(choice < arr[cur][0]):\n",
    "        cur = 0\n",
    "    #if random is less than the sum of the current state(row) and first and second column\n",
    "    elif(choice < arr[cur][0] + arr[cur][1]):\n",
    "        cur = 1\n",
    "    \n",
    "    elif(choice < arr[cur][0] + arr[cur][1] + arr[cur][2]):\n",
    "        cur = 2\n",
    "    else:\n",
    "        cur = 3\n",
    "    states[cur] += 1\n",
    "\n",
    "#calculates probability\n",
    "cloudy_true = (states[0] + states[1]) / alpha\n",
    "cloudy_false = (states[2] + states[3]) / alpha\n",
    "\n",
    "print(\"\\nPart C: The probabilty for the query\\nP(C|-s,w)\" + format2 % (cloudy_true,cloudy_false))"
   ]
  },
  {
   "cell_type": "code",
   "execution_count": null,
   "metadata": {
    "collapsed": true
   },
   "outputs": [],
   "source": []
  }
 ],
 "metadata": {
  "kernelspec": {
   "display_name": "Python 3",
   "language": "python",
   "name": "python3"
  },
  "language_info": {
   "codemirror_mode": {
    "name": "ipython",
    "version": 3
   },
   "file_extension": ".py",
   "mimetype": "text/x-python",
   "name": "python",
   "nbconvert_exporter": "python",
   "pygments_lexer": "ipython3",
   "version": "3.7.3"
  }
 },
 "nbformat": 4,
 "nbformat_minor": 2
}
