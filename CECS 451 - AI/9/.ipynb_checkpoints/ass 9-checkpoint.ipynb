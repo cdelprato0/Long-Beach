{
 "cells": [
  {
   "cell_type": "code",
   "execution_count": 32,
   "metadata": {},
   "outputs": [
    {
     "name": "stdout",
     "output_type": "stream",
     "text": [
      "Words list\n",
      "25\n",
      "[['Before', 'we', 'get', 'to', 'the', 'nitty', 'gritty', 'of', 'doing', 'speech', 'recognition', 'in', 'Python', 'letâ€™s', 'take', 'a', 'moment', 'to', 'talk', 'about', 'how', 'speech', 'recognition', 'works'], ['A', 'full', 'discussion', 'would', 'fill', 'a', 'book', 'so', 'I', 'wonâ€™t', 'bore', 'you', 'with', 'all', 'of', 'the', 'technical', 'details', 'here'], ['In', 'fact', 'this', 'section', 'is', 'not', 'pre', 'requisite', 'to', 'the', 'rest', 'of', 'the', 'tutorial'], ['If', 'youâ€™d', 'like', 'to', 'get', 'straight', 'to', 'the', 'point', 'then', 'feel', 'free', 'to', 'skip', 'ahead'], ['Speech', 'recognition', 'has', 'its', 'roots', 'in', 'research', 'done', 'at', 'Bell', 'Labs', 'in', 'the', 'early', '1950s'], ['Early', 'systems', 'were', 'limited', 'to', 'a', 'single', 'speaker', 'and', 'had', 'limited', 'vocabularies', 'of', 'about', 'a', 'dozen', 'words'], ['Modern', 'speech', 'recognition', 'systems', 'have', 'come', 'a', 'long', 'way', 'since', 'their', 'ancient', 'counterparts'], ['They', 'can', 'recognize', 'speech', 'from', 'multiple', 'speakers', 'and', 'have', 'enormous', 'vocabularies', 'in', 'numerous', 'languages'], ['The', 'first', 'component', 'of', 'speech', 'recognition', 'is', 'of', 'course', 'speech', 'Speech', 'must', 'be', 'converted', 'from', 'physical', 'sound', 'to', 'an', 'electrical', 'signal', 'with', 'a', 'microphone', 'and', 'then', 'to', 'digital', 'data', 'with', 'an', 'analog', 'to', 'digital', 'converter'], ['Once', 'digitized', 'several', 'models', 'can', 'be', 'used', 'to', 'transcribe', 'the', 'audio', 'to', 'text'], ['Most', 'modern', 'speech', 'recognition', 'systems', 'rely', 'on', 'what', 'is', 'known', 'as', 'a', 'Hidden', 'Markov', 'Model'], ['This', 'approach', 'works', 'on', 'the', 'assumption', 'that', 'a', 'speech', 'signal', 'when', 'viewed', 'on', 'a', 'short', 'enough', 'timescale', 'can', 'be', 'reasonably', 'approximated', 'as', 'a', 'stationary', 'process', 'that', 'is', 'a', 'process', 'in', 'which', 'statistical', 'properties', 'do', 'not', 'change', 'over', 'time'], ['In', 'a', 'typical', 'Hidden', 'Markov', 'Model', 'the', 'speech', 'signal', 'is', 'divided', 'into', '10', 'millisecond', 'fragments'], ['The', 'power', 'spectrum', 'of', 'each', 'fragment', 'which', 'is', 'essentially', 'a', 'plot', 'of', 'the', 'signalâ€™s', 'power', 'as', 'a', 'function', 'of', 'frequency', 'is', 'mapped', 'to', 'a', 'vector', 'of', 'real', 'numbers', 'known', 'as', 'cepstral', 'coefficients'], ['The', 'dimension', 'of', 'this', 'vector', 'is', 'usually', 'small', 'sometimes', 'as', 'low', 'as', '10', 'although', 'more', 'accurate', 'systems', 'may', 'have', 'dimension', '32', 'or', 'more'], ['The', 'final', 'output', 'of', 'the', 'Hidden', 'Markov', 'Model', 'is', 'a', 'sequence', 'of', 'these', 'vectors'], ['To', 'decode', 'the', 'speech', 'into', 'text', 'groups', 'of', 'vectors', 'are', 'matched', 'to', 'one', 'or', 'more', 'phonemes', 'a', 'fundamental', 'unit', 'of', 'speech'], ['This', 'calculation', 'requires', 'training', 'since', 'the', 'sound', 'of', 'a', 'phoneme', 'varies', 'from', 'speaker', 'to', 'speaker', 'and', 'even', 'varies', 'from', 'one', 'utterance', 'to', 'another', 'by', 'the', 'same', 'speaker'], ['A', 'special', 'algorithm', 'is', 'then', 'applied', 'to', 'determine', 'the', 'most', 'likely', 'words', 'that', 'produce', 'the', 'given', 'sequence', 'of', 'phonemes'], ['One', 'can', 'imagine', 'that', 'this', 'whole', 'process', 'may', 'be', 'computationally', 'expensive'], ['In', 'many', 'modern', 'speech', 'recognition', 'systems', 'neural', 'networks', 'are', 'used', 'to', 'simplify', 'the', 'speech', 'signal', 'using', 'techniques', 'for', 'feature', 'transformation', 'and', 'dimensionality', 'reduction', 'before', 'Hidden', 'Markov', 'Model', 'recognition'], ['Voice', 'activity', 'detectors', 'are', 'also', 'used', 'to', 'reduce', 'an', 'audio', 'signal', 'to', 'only', 'the', 'portions', 'that', 'are', 'likely', 'to', 'contain', 'speech'], ['This', 'prevents', 'the', 'recognizer', 'from', 'wasting', 'time', 'analyzing', 'unnecessary', 'parts', 'of', 'the', 'signal'], ['Fortunately', 'as', 'a', 'Python', 'programmer', 'you', 'donâ€™t', 'have', 'to', 'worry', 'about', 'any', 'of', 'this'], ['A', 'number', 'of', 'speech', 'recognition', 'services', 'are', 'available', 'for', 'use', 'online', 'through', 'an', 'API', 'and', 'many', 'of', 'these', 'services', 'offer', 'Python', 'SDKs']]\n",
      "Compares list\n",
      "25\n",
      "[23, 18, 14, 15, 15, 16, 12, 14, 34, 13, 14, 37, 14, 31, 23, 13, 20, 26, 19, 11, 28, 21, 13, 13, 22]\n"
     ]
    }
   ],
   "source": [
    "import distance\n",
    "\n",
    "class Speech:\n",
    "    def __init__(self):\n",
    "        self.original = []\n",
    "        self.recognized = []\n",
    "        self.similarity = []\n",
    "\n",
    "    def read_original(self, inFile):\n",
    "        file = open(inFile,\"r\")\n",
    "        lines = file.readlines()\n",
    "        for line in lines:\n",
    "            self.original.append(line.rstrip())\n",
    "\n",
    "    def conv_audio(self, inDir):\n",
    "        pass\n",
    "\n",
    "    def comp_string(self):\n",
    "        words = []\n",
    "        compare = []\n",
    "        for phrase in self.original:\n",
    "            words.append(phrase.split())\n",
    "        print(\"Words list\")\n",
    "        print(len(words))\n",
    "        print(words)\n",
    "        \n",
    "        for phrase in self.recognized:\n",
    "            compare.append(phrase.split())\n",
    "        print(\"Compares list\")\n",
    "        print(len(compare))\n",
    "#        print(compare)\n",
    "        for i in range(len(words)):\n",
    "            self.similarity.append(distance.levenshtein(words[i], compare[i]))\n",
    "        print(self.similarity)\n",
    "        pass\n",
    "\n",
    "if __name__ == '__main__':\n",
    "\n",
    "    speech = Speech()\n",
    "    speech.read_original(\"original.txt\")\n",
    "    for i in range(25):\n",
    "        speech.recognized.append(\"a\")\n",
    "    speech.comp_string()\n",
    "    #print(speech.original)\n"
   ]
  },
  {
   "cell_type": "code",
   "execution_count": null,
   "metadata": {},
   "outputs": [],
   "source": []
  }
 ],
 "metadata": {
  "kernelspec": {
   "display_name": "Python 3",
   "language": "python",
   "name": "python3"
  },
  "language_info": {
   "codemirror_mode": {
    "name": "ipython",
    "version": 3
   },
   "file_extension": ".py",
   "mimetype": "text/x-python",
   "name": "python",
   "nbconvert_exporter": "python",
   "pygments_lexer": "ipython3",
   "version": "3.7.3"
  }
 },
 "nbformat": 4,
 "nbformat_minor": 2
}
